{
 "cells": [
  {
   "cell_type": "code",
   "execution_count": 1,
   "metadata": {},
   "outputs": [],
   "source": [
    "import pandas as pd\n",
    "import numpy as np\n",
    "from sklearn.metrics import accuracy_score, confusion_matrix, classification_report, plot_confusion_matrix\n",
    "import lightgbm as lgb\n",
    "import pickle\n",
    "import os"
   ]
  },
  {
   "cell_type": "code",
   "execution_count": 2,
   "metadata": {},
   "outputs": [],
   "source": [
    "flight_data = (\n",
    "    pd.read_csv('final_dataset_cleaned_v1.csv')\n",
    ")"
   ]
  },
  {
   "cell_type": "code",
   "execution_count": 3,
   "metadata": {},
   "outputs": [
    {
     "data": {
      "text/plain": [
       "(12658696, 29)"
      ]
     },
     "execution_count": 3,
     "metadata": {},
     "output_type": "execute_result"
    }
   ],
   "source": [
    "flight_data.shape"
   ]
  },
  {
   "cell_type": "code",
   "execution_count": 4,
   "metadata": {},
   "outputs": [
    {
     "data": {
      "text/html": [
       "<div>\n",
       "<style scoped>\n",
       "    .dataframe tbody tr th:only-of-type {\n",
       "        vertical-align: middle;\n",
       "    }\n",
       "\n",
       "    .dataframe tbody tr th {\n",
       "        vertical-align: top;\n",
       "    }\n",
       "\n",
       "    .dataframe thead th {\n",
       "        text-align: right;\n",
       "    }\n",
       "</style>\n",
       "<table border=\"1\" class=\"dataframe\">\n",
       "  <thead>\n",
       "    <tr style=\"text-align: right;\">\n",
       "      <th></th>\n",
       "      <th>YEAR</th>\n",
       "      <th>QUARTER</th>\n",
       "      <th>MONTH</th>\n",
       "      <th>DAY_OF_MONTH</th>\n",
       "      <th>DAY_OF_WEEK</th>\n",
       "      <th>FL_DATE</th>\n",
       "      <th>TAIL_NUM</th>\n",
       "      <th>ORIGIN</th>\n",
       "      <th>ORIGIN_CITY_NAME</th>\n",
       "      <th>DEST</th>\n",
       "      <th>...</th>\n",
       "      <th>time</th>\n",
       "      <th>temp</th>\n",
       "      <th>dwpt</th>\n",
       "      <th>rhum</th>\n",
       "      <th>prcp</th>\n",
       "      <th>wdir</th>\n",
       "      <th>wspd</th>\n",
       "      <th>pres</th>\n",
       "      <th>coco</th>\n",
       "      <th>target</th>\n",
       "    </tr>\n",
       "  </thead>\n",
       "  <tbody>\n",
       "    <tr>\n",
       "      <th>0</th>\n",
       "      <td>2020</td>\n",
       "      <td>1</td>\n",
       "      <td>1</td>\n",
       "      <td>1</td>\n",
       "      <td>3</td>\n",
       "      <td>2020-01-01</td>\n",
       "      <td>N951WN</td>\n",
       "      <td>ONT</td>\n",
       "      <td>Ontario, CA</td>\n",
       "      <td>SFO</td>\n",
       "      <td>...</td>\n",
       "      <td>2020-01-01 18:00:00</td>\n",
       "      <td>12.2</td>\n",
       "      <td>-7.3</td>\n",
       "      <td>25.0</td>\n",
       "      <td>0.0</td>\n",
       "      <td>330.0</td>\n",
       "      <td>18.4</td>\n",
       "      <td>1017.3</td>\n",
       "      <td>3.0</td>\n",
       "      <td>1</td>\n",
       "    </tr>\n",
       "    <tr>\n",
       "      <th>1</th>\n",
       "      <td>2020</td>\n",
       "      <td>1</td>\n",
       "      <td>1</td>\n",
       "      <td>1</td>\n",
       "      <td>3</td>\n",
       "      <td>2020-01-01</td>\n",
       "      <td>N467WN</td>\n",
       "      <td>ONT</td>\n",
       "      <td>Ontario, CA</td>\n",
       "      <td>SFO</td>\n",
       "      <td>...</td>\n",
       "      <td>2020-01-01 11:00:00</td>\n",
       "      <td>3.9</td>\n",
       "      <td>-3.4</td>\n",
       "      <td>59.0</td>\n",
       "      <td>0.0</td>\n",
       "      <td>210.0</td>\n",
       "      <td>5.4</td>\n",
       "      <td>1017.6</td>\n",
       "      <td>2.0</td>\n",
       "      <td>0</td>\n",
       "    </tr>\n",
       "    <tr>\n",
       "      <th>2</th>\n",
       "      <td>2020</td>\n",
       "      <td>1</td>\n",
       "      <td>1</td>\n",
       "      <td>1</td>\n",
       "      <td>3</td>\n",
       "      <td>2020-01-01</td>\n",
       "      <td>N7885A</td>\n",
       "      <td>ONT</td>\n",
       "      <td>Ontario, CA</td>\n",
       "      <td>SJC</td>\n",
       "      <td>...</td>\n",
       "      <td>2020-01-01 20:00:00</td>\n",
       "      <td>12.8</td>\n",
       "      <td>-7.3</td>\n",
       "      <td>24.0</td>\n",
       "      <td>0.0</td>\n",
       "      <td>290.0</td>\n",
       "      <td>11.2</td>\n",
       "      <td>1015.8</td>\n",
       "      <td>2.0</td>\n",
       "      <td>0</td>\n",
       "    </tr>\n",
       "  </tbody>\n",
       "</table>\n",
       "<p>3 rows × 29 columns</p>\n",
       "</div>"
      ],
      "text/plain": [
       "   YEAR  QUARTER  MONTH  DAY_OF_MONTH  DAY_OF_WEEK     FL_DATE TAIL_NUM  \\\n",
       "0  2020        1      1             1            3  2020-01-01   N951WN   \n",
       "1  2020        1      1             1            3  2020-01-01   N467WN   \n",
       "2  2020        1      1             1            3  2020-01-01   N7885A   \n",
       "\n",
       "  ORIGIN ORIGIN_CITY_NAME DEST  ...                 time  temp  dwpt  rhum  \\\n",
       "0    ONT      Ontario, CA  SFO  ...  2020-01-01 18:00:00  12.2  -7.3  25.0   \n",
       "1    ONT      Ontario, CA  SFO  ...  2020-01-01 11:00:00   3.9  -3.4  59.0   \n",
       "2    ONT      Ontario, CA  SJC  ...  2020-01-01 20:00:00  12.8  -7.3  24.0   \n",
       "\n",
       "   prcp   wdir  wspd    pres coco target  \n",
       "0   0.0  330.0  18.4  1017.3  3.0      1  \n",
       "1   0.0  210.0   5.4  1017.6  2.0      0  \n",
       "2   0.0  290.0  11.2  1015.8  2.0      0  \n",
       "\n",
       "[3 rows x 29 columns]"
      ]
     },
     "execution_count": 4,
     "metadata": {},
     "output_type": "execute_result"
    }
   ],
   "source": [
    "flight_data.head(n = 3)"
   ]
  },
  {
   "cell_type": "code",
   "execution_count": 5,
   "metadata": {},
   "outputs": [],
   "source": [
    "flight_data['aircraft_type_new'] = [i.split('-')[0] for i in flight_data['Aircraft type']]"
   ]
  },
  {
   "cell_type": "code",
   "execution_count": 6,
   "metadata": {},
   "outputs": [],
   "source": [
    "# list of numerical and categorical features to select \n",
    "l_numeric_cols = [ 'DEP_HOUR', 'temp', 'dwpt', 'rhum', 'prcp', 'wspd', 'pres', 'coco']\n",
    "l_categorical_cols = ['QUARTER', 'MONTH', 'DAY_OF_MONTH', 'DAY_OF_WEEK', 'aircraft_type_new']\n",
    "target = \"target\""
   ]
  },
  {
   "cell_type": "code",
   "execution_count": 7,
   "metadata": {},
   "outputs": [],
   "source": [
    "# converting the categorical columns to categorical\n",
    "for col in l_categorical_cols:\n",
    "    flight_data[col] = flight_data[col].astype('category')"
   ]
  },
  {
   "cell_type": "code",
   "execution_count": 8,
   "metadata": {},
   "outputs": [],
   "source": [
    "flight_data = flight_data[l_numeric_cols + l_categorical_cols + [target] + ['YEAR']]"
   ]
  },
  {
   "cell_type": "code",
   "execution_count": 9,
   "metadata": {},
   "outputs": [],
   "source": [
    "train = flight_data[flight_data['YEAR'] == 2019]\n",
    "test = flight_data[flight_data['YEAR'] == 2020]"
   ]
  },
  {
   "cell_type": "code",
   "execution_count": 10,
   "metadata": {},
   "outputs": [],
   "source": [
    "del flight_data"
   ]
  },
  {
   "cell_type": "code",
   "execution_count": 11,
   "metadata": {},
   "outputs": [],
   "source": [
    "from imblearn.under_sampling import RandomUnderSampler\n",
    "\n",
    "undersample = RandomUnderSampler(sampling_strategy='majority', random_state=42)\n",
    "X_res, y_res = undersample.fit_resample(train.drop([\"YEAR\",\"target\"], axis=1).values,train[target])"
   ]
  },
  {
   "cell_type": "code",
   "execution_count": 12,
   "metadata": {},
   "outputs": [],
   "source": [
    "del train"
   ]
  },
  {
   "cell_type": "code",
   "execution_count": 13,
   "metadata": {},
   "outputs": [],
   "source": [
    "X_res1, y_res1 = undersample.fit_resample(X_res, y_res)\n",
    "del X_res, y_res"
   ]
  },
  {
   "cell_type": "code",
   "execution_count": 14,
   "metadata": {},
   "outputs": [],
   "source": [
    "X_res2, y_res2 = undersample.fit_resample(X_res1, y_res1)\n",
    "del X_res1, y_res1"
   ]
  },
  {
   "cell_type": "code",
   "execution_count": 15,
   "metadata": {},
   "outputs": [
    {
     "data": {
      "text/plain": [
       "0    215739\n",
       "1    215739\n",
       "2    215739\n",
       "3    215739\n",
       "Name: target, dtype: int64"
      ]
     },
     "execution_count": 15,
     "metadata": {},
     "output_type": "execute_result"
    }
   ],
   "source": [
    "y_res2.value_counts()"
   ]
  },
  {
   "cell_type": "code",
   "execution_count": 16,
   "metadata": {},
   "outputs": [],
   "source": [
    "train = pd.DataFrame(X_res2, columns=test.columns.drop([\"YEAR\",\"target\"]))"
   ]
  },
  {
   "cell_type": "code",
   "execution_count": 17,
   "metadata": {},
   "outputs": [],
   "source": [
    "train['target'] = y_res2"
   ]
  },
  {
   "cell_type": "code",
   "execution_count": 18,
   "metadata": {},
   "outputs": [
    {
     "data": {
      "text/plain": [
       "DEP_HOUR             object\n",
       "temp                 object\n",
       "dwpt                 object\n",
       "rhum                 object\n",
       "prcp                 object\n",
       "wspd                 object\n",
       "pres                 object\n",
       "coco                 object\n",
       "QUARTER              object\n",
       "MONTH                object\n",
       "DAY_OF_MONTH         object\n",
       "DAY_OF_WEEK          object\n",
       "aircraft_type_new    object\n",
       "target                int64\n",
       "dtype: object"
      ]
     },
     "execution_count": 18,
     "metadata": {},
     "output_type": "execute_result"
    }
   ],
   "source": [
    "train.dtypes"
   ]
  },
  {
   "cell_type": "code",
   "execution_count": 19,
   "metadata": {},
   "outputs": [],
   "source": [
    "for col in l_categorical_cols:\n",
    "    train[col] = train[col].astype('category')\n",
    "    \n",
    "for col in l_numeric_cols:\n",
    "    train[col] = train[col].astype('float')"
   ]
  },
  {
   "cell_type": "code",
   "execution_count": 22,
   "metadata": {},
   "outputs": [
    {
     "name": "stderr",
     "output_type": "stream",
     "text": [
      "C:\\anaconda\\envs\\python_3_7_p\\lib\\site-packages\\lightgbm\\basic.py:1702: UserWarning: Using categorical_feature in Dataset.\n",
      "  _log_warning('Using categorical_feature in Dataset.')\n"
     ]
    },
    {
     "data": {
      "text/plain": [
       "LGBMClassifier(num_class=4, objective='multiclass', random_seed=42)"
      ]
     },
     "execution_count": 22,
     "metadata": {},
     "output_type": "execute_result"
    }
   ],
   "source": [
    "parameters = {\n",
    "            'boosting_type': 'gbdt',\n",
    "            'objective': 'multiclass',\n",
    "            'num_class':4,\n",
    "            \"random_seed\":42,\n",
    "}\n",
    "\n",
    "classifier = lgb.LGBMClassifier(**parameters)\n",
    "classifier.fit(\n",
    "    train.drop([\"target\"], axis=1),\n",
    "     train[target],\n",
    "    categorical_feature=l_categorical_cols,\n",
    "    verbose=1\n",
    "     )"
   ]
  },
  {
   "cell_type": "code",
   "execution_count": 23,
   "metadata": {},
   "outputs": [],
   "source": [
    "path = \"./models\"\n",
    "filename = \"2019train_LGBM_undersample.mdl\""
   ]
  },
  {
   "cell_type": "code",
   "execution_count": 24,
   "metadata": {},
   "outputs": [],
   "source": [
    "with open(os.path.join(path, filename), \"wb\") as f:\n",
    "    pickle.dump(classifier, f, protocol=pickle.HIGHEST_PROTOCOL)"
   ]
  },
  {
   "cell_type": "code",
   "execution_count": 25,
   "metadata": {},
   "outputs": [],
   "source": [
    "# predicting the test results \n",
    "y_pred = classifier.predict(test.drop([\"YEAR\",\"target\"], axis=1))"
   ]
  },
  {
   "cell_type": "code",
   "execution_count": 26,
   "metadata": {},
   "outputs": [
    {
     "name": "stdout",
     "output_type": "stream",
     "text": [
      "[[2277165 1028557  536636  462025]\n",
      " [  96723   87407   45583   47345]\n",
      " [  25567   20943   17724   21232]\n",
      " [  14743   10979   10654   17950]]\n"
     ]
    }
   ],
   "source": [
    "print(confusion_matrix(test[target],y_pred))"
   ]
  },
  {
   "cell_type": "code",
   "execution_count": 27,
   "metadata": {},
   "outputs": [
    {
     "name": "stdout",
     "output_type": "stream",
     "text": [
      "              precision    recall  f1-score   support\n",
      "\n",
      "           0       0.94      0.53      0.68   4304383\n",
      "           1       0.08      0.32      0.12    277058\n",
      "           2       0.03      0.21      0.05     85466\n",
      "           3       0.03      0.33      0.06     54326\n",
      "\n",
      "    accuracy                           0.51   4721233\n",
      "   macro avg       0.27      0.35      0.23   4721233\n",
      "weighted avg       0.87      0.51      0.63   4721233\n",
      "\n"
     ]
    }
   ],
   "source": [
    "print(classification_report(test[target],y_pred))"
   ]
  },
  {
   "cell_type": "code",
   "execution_count": 28,
   "metadata": {},
   "outputs": [
    {
     "name": "stdout",
     "output_type": "stream",
     "text": [
      "Testing  set score for model: 0.508394\n"
     ]
    }
   ],
   "source": [
    "print(\"Testing  set score for model: %f\" % classifier.score(test.drop([\"YEAR\",\"target\"], axis=1)  , test[target] ))"
   ]
  },
  {
   "cell_type": "code",
   "execution_count": 30,
   "metadata": {},
   "outputs": [
    {
     "name": "stderr",
     "output_type": "stream",
     "text": [
      "C:\\anaconda\\envs\\python_3_7_p\\lib\\site-packages\\lightgbm\\basic.py:1702: UserWarning: Using categorical_feature in Dataset.\n",
      "  _log_warning('Using categorical_feature in Dataset.')\n"
     ]
    },
    {
     "data": {
      "text/plain": [
       "LGBMClassifier(class_weight='balanced', num_class=4, objective='multiclass',\n",
       "               random_seed=42)"
      ]
     },
     "execution_count": 30,
     "metadata": {},
     "output_type": "execute_result"
    }
   ],
   "source": [
    "##### balanced class weight #####\n",
    "parameters_b = {\n",
    "            'boosting_type': 'gbdt',\n",
    "            'objective': 'multiclass',\n",
    "            'num_class':4,\n",
    "            \"random_seed\":42,\n",
    "            \"class_weight\":\"balanced\"\n",
    "}\n",
    "\n",
    "classifier_b = lgb.LGBMClassifier(**parameters_b)\n",
    "classifier_b.fit(\n",
    "    train.drop([\"target\"], axis=1),\n",
    "     train[target],\n",
    "    categorical_feature=l_categorical_cols,\n",
    "    verbose=1\n",
    "     )"
   ]
  },
  {
   "cell_type": "code",
   "execution_count": 31,
   "metadata": {},
   "outputs": [],
   "source": [
    "path = \"./models\"\n",
    "filename = \"2019train_LGBM_B_undersample.mdl\""
   ]
  },
  {
   "cell_type": "code",
   "execution_count": 32,
   "metadata": {},
   "outputs": [],
   "source": [
    "with open(os.path.join(path, filename), \"wb\") as f:\n",
    "    pickle.dump(classifier_b, f, protocol=pickle.HIGHEST_PROTOCOL)"
   ]
  },
  {
   "cell_type": "code",
   "execution_count": 33,
   "metadata": {},
   "outputs": [],
   "source": [
    "# predicting the test results \n",
    "y_pred = classifier_b.predict(test.drop([\"YEAR\",\"target\"], axis=1))"
   ]
  },
  {
   "cell_type": "code",
   "execution_count": 34,
   "metadata": {},
   "outputs": [
    {
     "name": "stdout",
     "output_type": "stream",
     "text": [
      "[[2277165 1028557  536636  462025]\n",
      " [  96723   87407   45583   47345]\n",
      " [  25567   20943   17724   21232]\n",
      " [  14743   10979   10654   17950]]\n"
     ]
    }
   ],
   "source": [
    "print(confusion_matrix(test[target],y_pred))"
   ]
  },
  {
   "cell_type": "code",
   "execution_count": 35,
   "metadata": {},
   "outputs": [
    {
     "name": "stdout",
     "output_type": "stream",
     "text": [
      "              precision    recall  f1-score   support\n",
      "\n",
      "           0       0.94      0.53      0.68   4304383\n",
      "           1       0.08      0.32      0.12    277058\n",
      "           2       0.03      0.21      0.05     85466\n",
      "           3       0.03      0.33      0.06     54326\n",
      "\n",
      "    accuracy                           0.51   4721233\n",
      "   macro avg       0.27      0.35      0.23   4721233\n",
      "weighted avg       0.87      0.51      0.63   4721233\n",
      "\n"
     ]
    }
   ],
   "source": [
    "print(classification_report(test[target],y_pred))"
   ]
  },
  {
   "cell_type": "code",
   "execution_count": 36,
   "metadata": {},
   "outputs": [
    {
     "name": "stdout",
     "output_type": "stream",
     "text": [
      "Testing  set score for model: 0.508394\n"
     ]
    }
   ],
   "source": [
    "print(\"Testing  set score for model: %f\" % classifier_b.score(test.drop([\"YEAR\",\"target\"], axis=1)  , test[target] ))"
   ]
  },
  {
   "cell_type": "code",
   "execution_count": null,
   "metadata": {},
   "outputs": [],
   "source": []
  }
 ],
 "metadata": {
  "kernelspec": {
   "display_name": "python_3_7_p",
   "language": "python",
   "name": "python_3_7_p"
  },
  "language_info": {
   "codemirror_mode": {
    "name": "ipython",
    "version": 3
   },
   "file_extension": ".py",
   "mimetype": "text/x-python",
   "name": "python",
   "nbconvert_exporter": "python",
   "pygments_lexer": "ipython3",
   "version": "3.7.10"
  }
 },
 "nbformat": 4,
 "nbformat_minor": 4
}
